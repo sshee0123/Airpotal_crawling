{
  "nbformat": 4,
  "nbformat_minor": 0,
  "metadata": {
    "colab": {
      "name": "deep06_ANN_Keras.ipynb",
      "provenance": [],
      "collapsed_sections": [],
      "include_colab_link": true
    },
    "kernelspec": {
      "name": "python3",
      "display_name": "Python 3"
    },
    "accelerator": "GPU"
  },
  "cells": [
    {
      "cell_type": "markdown",
      "metadata": {
        "id": "view-in-github",
        "colab_type": "text"
      },
      "source": [
        "<a href=\"https://colab.research.google.com/github/sshee0123/Airpotal_crawling/blob/main/DeepLearning/deep06_ANN_Keras.ipynb\" target=\"_parent\"><img src=\"https://colab.research.google.com/assets/colab-badge.svg\" alt=\"Open In Colab\"/></a>"
      ]
    },
    {
      "cell_type": "code",
      "metadata": {
        "id": "hABg9IDIQSKC"
      },
      "source": [
        "from keras import layers, models\n",
        "from keras import datasets\n",
        "from keras.utils import np_utils\n",
        "import numpy as np\n",
        "import matplotlib.pyplot as plt\n",
        "import tensorflow as tf\n"
      ],
      "execution_count": 1,
      "outputs": []
    },
    {
      "cell_type": "markdown",
      "metadata": {
        "id": "D6v5cSLbcHnr"
      },
      "source": [
        "### 1. Data  Loader\n",
        "\n",
        "(X_train, y_train), (X_test, y_test) 형식으로 반드시 써야함"
      ]
    },
    {
      "cell_type": "code",
      "metadata": {
        "id": "rtjb_kdzcHrk",
        "colab": {
          "base_uri": "https://localhost:8080/"
        },
        "outputId": "cb4d5e84-8df6-462f-a527-36dd2b5ded9b"
      },
      "source": [
        "(X_train, y_train), (X_test, y_test) = tf.keras.datasets.mnist.load_data()"
      ],
      "execution_count": 2,
      "outputs": [
        {
          "output_type": "stream",
          "name": "stdout",
          "text": [
            "Downloading data from https://storage.googleapis.com/tensorflow/tf-keras-datasets/mnist.npz\n",
            "11493376/11490434 [==============================] - 0s 0us/step\n",
            "11501568/11490434 [==============================] - 0s 0us/step\n"
          ]
        }
      ]
    },
    {
      "cell_type": "code",
      "metadata": {
        "id": "ByqySlc8cHz3",
        "colab": {
          "base_uri": "https://localhost:8080/"
        },
        "outputId": "b841556b-8f57-4936-cc0c-b1c2fcce6916"
      },
      "source": [
        "print(X_train[0])"
      ],
      "execution_count": 3,
      "outputs": [
        {
          "output_type": "stream",
          "name": "stdout",
          "text": [
            "[[  0   0   0   0   0   0   0   0   0   0   0   0   0   0   0   0   0   0\n",
            "    0   0   0   0   0   0   0   0   0   0]\n",
            " [  0   0   0   0   0   0   0   0   0   0   0   0   0   0   0   0   0   0\n",
            "    0   0   0   0   0   0   0   0   0   0]\n",
            " [  0   0   0   0   0   0   0   0   0   0   0   0   0   0   0   0   0   0\n",
            "    0   0   0   0   0   0   0   0   0   0]\n",
            " [  0   0   0   0   0   0   0   0   0   0   0   0   0   0   0   0   0   0\n",
            "    0   0   0   0   0   0   0   0   0   0]\n",
            " [  0   0   0   0   0   0   0   0   0   0   0   0   0   0   0   0   0   0\n",
            "    0   0   0   0   0   0   0   0   0   0]\n",
            " [  0   0   0   0   0   0   0   0   0   0   0   0   3  18  18  18 126 136\n",
            "  175  26 166 255 247 127   0   0   0   0]\n",
            " [  0   0   0   0   0   0   0   0  30  36  94 154 170 253 253 253 253 253\n",
            "  225 172 253 242 195  64   0   0   0   0]\n",
            " [  0   0   0   0   0   0   0  49 238 253 253 253 253 253 253 253 253 251\n",
            "   93  82  82  56  39   0   0   0   0   0]\n",
            " [  0   0   0   0   0   0   0  18 219 253 253 253 253 253 198 182 247 241\n",
            "    0   0   0   0   0   0   0   0   0   0]\n",
            " [  0   0   0   0   0   0   0   0  80 156 107 253 253 205  11   0  43 154\n",
            "    0   0   0   0   0   0   0   0   0   0]\n",
            " [  0   0   0   0   0   0   0   0   0  14   1 154 253  90   0   0   0   0\n",
            "    0   0   0   0   0   0   0   0   0   0]\n",
            " [  0   0   0   0   0   0   0   0   0   0   0 139 253 190   2   0   0   0\n",
            "    0   0   0   0   0   0   0   0   0   0]\n",
            " [  0   0   0   0   0   0   0   0   0   0   0  11 190 253  70   0   0   0\n",
            "    0   0   0   0   0   0   0   0   0   0]\n",
            " [  0   0   0   0   0   0   0   0   0   0   0   0  35 241 225 160 108   1\n",
            "    0   0   0   0   0   0   0   0   0   0]\n",
            " [  0   0   0   0   0   0   0   0   0   0   0   0   0  81 240 253 253 119\n",
            "   25   0   0   0   0   0   0   0   0   0]\n",
            " [  0   0   0   0   0   0   0   0   0   0   0   0   0   0  45 186 253 253\n",
            "  150  27   0   0   0   0   0   0   0   0]\n",
            " [  0   0   0   0   0   0   0   0   0   0   0   0   0   0   0  16  93 252\n",
            "  253 187   0   0   0   0   0   0   0   0]\n",
            " [  0   0   0   0   0   0   0   0   0   0   0   0   0   0   0   0   0 249\n",
            "  253 249  64   0   0   0   0   0   0   0]\n",
            " [  0   0   0   0   0   0   0   0   0   0   0   0   0   0  46 130 183 253\n",
            "  253 207   2   0   0   0   0   0   0   0]\n",
            " [  0   0   0   0   0   0   0   0   0   0   0   0  39 148 229 253 253 253\n",
            "  250 182   0   0   0   0   0   0   0   0]\n",
            " [  0   0   0   0   0   0   0   0   0   0  24 114 221 253 253 253 253 201\n",
            "   78   0   0   0   0   0   0   0   0   0]\n",
            " [  0   0   0   0   0   0   0   0  23  66 213 253 253 253 253 198  81   2\n",
            "    0   0   0   0   0   0   0   0   0   0]\n",
            " [  0   0   0   0   0   0  18 171 219 253 253 253 253 195  80   9   0   0\n",
            "    0   0   0   0   0   0   0   0   0   0]\n",
            " [  0   0   0   0  55 172 226 253 253 253 253 244 133  11   0   0   0   0\n",
            "    0   0   0   0   0   0   0   0   0   0]\n",
            " [  0   0   0   0 136 253 253 253 212 135 132  16   0   0   0   0   0   0\n",
            "    0   0   0   0   0   0   0   0   0   0]\n",
            " [  0   0   0   0   0   0   0   0   0   0   0   0   0   0   0   0   0   0\n",
            "    0   0   0   0   0   0   0   0   0   0]\n",
            " [  0   0   0   0   0   0   0   0   0   0   0   0   0   0   0   0   0   0\n",
            "    0   0   0   0   0   0   0   0   0   0]\n",
            " [  0   0   0   0   0   0   0   0   0   0   0   0   0   0   0   0   0   0\n",
            "    0   0   0   0   0   0   0   0   0   0]]\n"
          ]
        }
      ]
    },
    {
      "cell_type": "code",
      "source": [
        "print(y_train[0])"
      ],
      "metadata": {
        "colab": {
          "base_uri": "https://localhost:8080/"
        },
        "id": "EqR6oSi3LWL3",
        "outputId": "9ec79462-56a1-4f31-cd98-7c25088fd2e4"
      },
      "execution_count": 4,
      "outputs": [
        {
          "output_type": "stream",
          "name": "stdout",
          "text": [
            "5\n"
          ]
        }
      ]
    },
    {
      "cell_type": "code",
      "source": [
        "X_train.shape\n",
        "# 60000 장이 들어있다."
      ],
      "metadata": {
        "colab": {
          "base_uri": "https://localhost:8080/"
        },
        "id": "hXY4HsKzLc9r",
        "outputId": "b9d71b92-b19f-4d8c-8090-4e6fd668c6d4"
      },
      "execution_count": 5,
      "outputs": [
        {
          "output_type": "execute_result",
          "data": {
            "text/plain": [
              "(60000, 28, 28)"
            ]
          },
          "metadata": {},
          "execution_count": 5
        }
      ]
    },
    {
      "cell_type": "markdown",
      "metadata": {
        "id": "mE-ALjH8cH2O"
      },
      "source": [
        "### 2. X입력 데이타 전처리  \n",
        "\n",
        "0~255 0~1 : /255로 나누기\n",
        "\n",
        "왜? 분산값이 커서(variety)를 낮춰야 성능이 좋아짐"
      ]
    },
    {
      "cell_type": "code",
      "metadata": {
        "id": "NyJ20qOadvcz"
      },
      "source": [
        "L, W, H = X_train.shape"
      ],
      "execution_count": 7,
      "outputs": []
    },
    {
      "cell_type": "code",
      "metadata": {
        "id": "iugEq6fldxR-",
        "colab": {
          "base_uri": "https://localhost:8080/"
        },
        "outputId": "5d38e4fc-2c68-4b3b-b800-aa216671d209"
      },
      "source": [
        "X_train = X_train.reshape(-1, W*H) # 1차원으로 펼치기\n",
        "X_test = X_test.reshape(-1, W*H)\n",
        "X_train.shape # 28 * 28 -> 1차원으로 펼쳐짐."
      ],
      "execution_count": 8,
      "outputs": [
        {
          "output_type": "execute_result",
          "data": {
            "text/plain": [
              "(60000, 784)"
            ]
          },
          "metadata": {},
          "execution_count": 8
        }
      ]
    },
    {
      "cell_type": "code",
      "metadata": {
        "id": "sGvrz5q5dxU5",
        "colab": {
          "base_uri": "https://localhost:8080/"
        },
        "outputId": "2a99d057-26bf-4db6-83d0-a8d77b361a4f"
      },
      "source": [
        "print(X_train.shape)\n",
        "print(X_test.shape)"
      ],
      "execution_count": 9,
      "outputs": [
        {
          "output_type": "stream",
          "name": "stdout",
          "text": [
            "(60000, 784)\n",
            "(10000, 784)\n"
          ]
        }
      ]
    },
    {
      "cell_type": "code",
      "metadata": {
        "id": "iR9I3PIbdxYk",
        "colab": {
          "base_uri": "https://localhost:8080/"
        },
        "outputId": "311a0009-2631-4b5a-8b93-8310adbde424"
      },
      "source": [
        "# 2). Scaling작업 #0~1 사이에 있는 값으로 조정\n",
        "X_train = X_train / 255\n",
        "X_test = X_test / 255\n",
        "\n",
        "# Scaling작업 확인\n",
        "print(X_train[0])"
      ],
      "execution_count": 10,
      "outputs": [
        {
          "output_type": "stream",
          "name": "stdout",
          "text": [
            "[0.         0.         0.         0.         0.         0.\n",
            " 0.         0.         0.         0.         0.         0.\n",
            " 0.         0.         0.         0.         0.         0.\n",
            " 0.         0.         0.         0.         0.         0.\n",
            " 0.         0.         0.         0.         0.         0.\n",
            " 0.         0.         0.         0.         0.         0.\n",
            " 0.         0.         0.         0.         0.         0.\n",
            " 0.         0.         0.         0.         0.         0.\n",
            " 0.         0.         0.         0.         0.         0.\n",
            " 0.         0.         0.         0.         0.         0.\n",
            " 0.         0.         0.         0.         0.         0.\n",
            " 0.         0.         0.         0.         0.         0.\n",
            " 0.         0.         0.         0.         0.         0.\n",
            " 0.         0.         0.         0.         0.         0.\n",
            " 0.         0.         0.         0.         0.         0.\n",
            " 0.         0.         0.         0.         0.         0.\n",
            " 0.         0.         0.         0.         0.         0.\n",
            " 0.         0.         0.         0.         0.         0.\n",
            " 0.         0.         0.         0.         0.         0.\n",
            " 0.         0.         0.         0.         0.         0.\n",
            " 0.         0.         0.         0.         0.         0.\n",
            " 0.         0.         0.         0.         0.         0.\n",
            " 0.         0.         0.         0.         0.         0.\n",
            " 0.         0.         0.         0.         0.         0.\n",
            " 0.         0.         0.         0.         0.         0.\n",
            " 0.         0.         0.01176471 0.07058824 0.07058824 0.07058824\n",
            " 0.49411765 0.53333333 0.68627451 0.10196078 0.65098039 1.\n",
            " 0.96862745 0.49803922 0.         0.         0.         0.\n",
            " 0.         0.         0.         0.         0.         0.\n",
            " 0.         0.         0.11764706 0.14117647 0.36862745 0.60392157\n",
            " 0.66666667 0.99215686 0.99215686 0.99215686 0.99215686 0.99215686\n",
            " 0.88235294 0.6745098  0.99215686 0.94901961 0.76470588 0.25098039\n",
            " 0.         0.         0.         0.         0.         0.\n",
            " 0.         0.         0.         0.         0.         0.19215686\n",
            " 0.93333333 0.99215686 0.99215686 0.99215686 0.99215686 0.99215686\n",
            " 0.99215686 0.99215686 0.99215686 0.98431373 0.36470588 0.32156863\n",
            " 0.32156863 0.21960784 0.15294118 0.         0.         0.\n",
            " 0.         0.         0.         0.         0.         0.\n",
            " 0.         0.         0.         0.07058824 0.85882353 0.99215686\n",
            " 0.99215686 0.99215686 0.99215686 0.99215686 0.77647059 0.71372549\n",
            " 0.96862745 0.94509804 0.         0.         0.         0.\n",
            " 0.         0.         0.         0.         0.         0.\n",
            " 0.         0.         0.         0.         0.         0.\n",
            " 0.         0.         0.31372549 0.61176471 0.41960784 0.99215686\n",
            " 0.99215686 0.80392157 0.04313725 0.         0.16862745 0.60392157\n",
            " 0.         0.         0.         0.         0.         0.\n",
            " 0.         0.         0.         0.         0.         0.\n",
            " 0.         0.         0.         0.         0.         0.\n",
            " 0.         0.05490196 0.00392157 0.60392157 0.99215686 0.35294118\n",
            " 0.         0.         0.         0.         0.         0.\n",
            " 0.         0.         0.         0.         0.         0.\n",
            " 0.         0.         0.         0.         0.         0.\n",
            " 0.         0.         0.         0.         0.         0.\n",
            " 0.         0.54509804 0.99215686 0.74509804 0.00784314 0.\n",
            " 0.         0.         0.         0.         0.         0.\n",
            " 0.         0.         0.         0.         0.         0.\n",
            " 0.         0.         0.         0.         0.         0.\n",
            " 0.         0.         0.         0.         0.         0.04313725\n",
            " 0.74509804 0.99215686 0.2745098  0.         0.         0.\n",
            " 0.         0.         0.         0.         0.         0.\n",
            " 0.         0.         0.         0.         0.         0.\n",
            " 0.         0.         0.         0.         0.         0.\n",
            " 0.         0.         0.         0.         0.1372549  0.94509804\n",
            " 0.88235294 0.62745098 0.42352941 0.00392157 0.         0.\n",
            " 0.         0.         0.         0.         0.         0.\n",
            " 0.         0.         0.         0.         0.         0.\n",
            " 0.         0.         0.         0.         0.         0.\n",
            " 0.         0.         0.         0.31764706 0.94117647 0.99215686\n",
            " 0.99215686 0.46666667 0.09803922 0.         0.         0.\n",
            " 0.         0.         0.         0.         0.         0.\n",
            " 0.         0.         0.         0.         0.         0.\n",
            " 0.         0.         0.         0.         0.         0.\n",
            " 0.         0.         0.17647059 0.72941176 0.99215686 0.99215686\n",
            " 0.58823529 0.10588235 0.         0.         0.         0.\n",
            " 0.         0.         0.         0.         0.         0.\n",
            " 0.         0.         0.         0.         0.         0.\n",
            " 0.         0.         0.         0.         0.         0.\n",
            " 0.         0.0627451  0.36470588 0.98823529 0.99215686 0.73333333\n",
            " 0.         0.         0.         0.         0.         0.\n",
            " 0.         0.         0.         0.         0.         0.\n",
            " 0.         0.         0.         0.         0.         0.\n",
            " 0.         0.         0.         0.         0.         0.\n",
            " 0.         0.97647059 0.99215686 0.97647059 0.25098039 0.\n",
            " 0.         0.         0.         0.         0.         0.\n",
            " 0.         0.         0.         0.         0.         0.\n",
            " 0.         0.         0.         0.         0.         0.\n",
            " 0.         0.         0.18039216 0.50980392 0.71764706 0.99215686\n",
            " 0.99215686 0.81176471 0.00784314 0.         0.         0.\n",
            " 0.         0.         0.         0.         0.         0.\n",
            " 0.         0.         0.         0.         0.         0.\n",
            " 0.         0.         0.         0.         0.15294118 0.58039216\n",
            " 0.89803922 0.99215686 0.99215686 0.99215686 0.98039216 0.71372549\n",
            " 0.         0.         0.         0.         0.         0.\n",
            " 0.         0.         0.         0.         0.         0.\n",
            " 0.         0.         0.         0.         0.         0.\n",
            " 0.09411765 0.44705882 0.86666667 0.99215686 0.99215686 0.99215686\n",
            " 0.99215686 0.78823529 0.30588235 0.         0.         0.\n",
            " 0.         0.         0.         0.         0.         0.\n",
            " 0.         0.         0.         0.         0.         0.\n",
            " 0.         0.         0.09019608 0.25882353 0.83529412 0.99215686\n",
            " 0.99215686 0.99215686 0.99215686 0.77647059 0.31764706 0.00784314\n",
            " 0.         0.         0.         0.         0.         0.\n",
            " 0.         0.         0.         0.         0.         0.\n",
            " 0.         0.         0.         0.         0.07058824 0.67058824\n",
            " 0.85882353 0.99215686 0.99215686 0.99215686 0.99215686 0.76470588\n",
            " 0.31372549 0.03529412 0.         0.         0.         0.\n",
            " 0.         0.         0.         0.         0.         0.\n",
            " 0.         0.         0.         0.         0.         0.\n",
            " 0.21568627 0.6745098  0.88627451 0.99215686 0.99215686 0.99215686\n",
            " 0.99215686 0.95686275 0.52156863 0.04313725 0.         0.\n",
            " 0.         0.         0.         0.         0.         0.\n",
            " 0.         0.         0.         0.         0.         0.\n",
            " 0.         0.         0.         0.         0.53333333 0.99215686\n",
            " 0.99215686 0.99215686 0.83137255 0.52941176 0.51764706 0.0627451\n",
            " 0.         0.         0.         0.         0.         0.\n",
            " 0.         0.         0.         0.         0.         0.\n",
            " 0.         0.         0.         0.         0.         0.\n",
            " 0.         0.         0.         0.         0.         0.\n",
            " 0.         0.         0.         0.         0.         0.\n",
            " 0.         0.         0.         0.         0.         0.\n",
            " 0.         0.         0.         0.         0.         0.\n",
            " 0.         0.         0.         0.         0.         0.\n",
            " 0.         0.         0.         0.         0.         0.\n",
            " 0.         0.         0.         0.         0.         0.\n",
            " 0.         0.         0.         0.         0.         0.\n",
            " 0.         0.         0.         0.         0.         0.\n",
            " 0.         0.         0.         0.         0.         0.\n",
            " 0.         0.         0.         0.         0.         0.\n",
            " 0.         0.         0.         0.         0.         0.\n",
            " 0.         0.         0.         0.         0.         0.\n",
            " 0.         0.         0.         0.        ]\n"
          ]
        }
      ]
    },
    {
      "cell_type": "markdown",
      "metadata": {
        "id": "CxhUFbgVfK7w"
      },
      "source": [
        "### 3. y값 전처리\n",
        "##### Y 입력 Data 전처리...One Hot Encoding\n",
        "\n",
        "ouput layer에는 총 10개의 노드가 있을것이다.  \n",
        "각각의 노드에서 이미지에 해당하는 예측치를 0~1사이에 있는 확률분포로 표현해준다  \n",
        "One Hot Encoding 해줘야한다.  \n",
        "라이브러리 사용..  \n",
        "keras의 np_utils 클래스 안에 to_categorical 함수를 사용  \n",
        "\n"
      ]
    },
    {
      "cell_type": "code",
      "metadata": {
        "id": "yyzpAbAIfP1g",
        "colab": {
          "base_uri": "https://localhost:8080/"
        },
        "outputId": "fe87b73e-1300-402a-86a8-8ad4f93e27a0"
      },
      "source": [
        "print(y_train[30])"
      ],
      "execution_count": 12,
      "outputs": [
        {
          "output_type": "stream",
          "name": "stdout",
          "text": [
            "3\n"
          ]
        }
      ]
    },
    {
      "cell_type": "code",
      "metadata": {
        "id": "Y_Oumw1Qhnfx",
        "colab": {
          "base_uri": "https://localhost:8080/"
        },
        "outputId": "31959782-a00f-452d-94d6-626aabe4662f"
      },
      "source": [
        "Y_train = np_utils.to_categorical(y_train)\n",
        "Y_test = np_utils.to_categorical(y_test)\n",
        "#확인\n",
        "print(Y_train[30])"
      ],
      "execution_count": 11,
      "outputs": [
        {
          "output_type": "stream",
          "name": "stdout",
          "text": [
            "[0. 0. 0. 1. 0. 0. 0. 0. 0. 0.]\n"
          ]
        }
      ]
    },
    {
      "cell_type": "markdown",
      "source": [
        "[0. 0. 0. 1. 0. 0. 0. 0. 0. 0.]. \n",
        "이 label 3 을 의미한다."
      ],
      "metadata": {
        "id": "5eY4jD3UOTNL"
      }
    },
    {
      "cell_type": "markdown",
      "metadata": {
        "id": "gOWjba9LiGEC"
      },
      "source": [
        "### 4. Settings Parameters"
      ]
    },
    {
      "cell_type": "code",
      "metadata": {
        "id": "XII_FV00iGL2"
      },
      "source": [
        "input_size = 28*28\n",
        "hidden_size = 100\n",
        "num_classes = 10\n",
        "num_out = num_classes\n",
        "num_epochs = 10\n",
        "batch_size = 100"
      ],
      "execution_count": 13,
      "outputs": []
    },
    {
      "cell_type": "markdown",
      "metadata": {
        "id": "t7lkPdhpiGP-"
      },
      "source": [
        "### 5. Constructor Model"
      ]
    },
    {
      "cell_type": "code",
      "metadata": {
        "id": "WUHlFnlliGTH"
      },
      "source": [
        "#처음 히든레이어에서 input 노드를 함께 등록해야한다.\n",
        "#input_shape은 튜플형태로 1차원..\n",
        "model = models.Sequential()\n",
        "# Dense 가 layer 임 / 첫 번째 layer 에만 input_shape 튜플 형식으로 넣기.\n",
        "# keras 는 Dense() 에서 맨 앞에 인자로 출력인자가 먼저옴.\n",
        "model.add(layers.Dense(hidden_size, activation = \"relu\", input_shape = (input_size,)))\n",
        "model.add(layers.Dense(num_classes, activation = \"softmax\"))"
      ],
      "execution_count": 14,
      "outputs": []
    },
    {
      "cell_type": "markdown",
      "metadata": {
        "id": "oI_tQnSikT9F"
      },
      "source": [
        "### 6. compile"
      ]
    },
    {
      "cell_type": "code",
      "metadata": {
        "id": "SZbpIYNkisGs"
      },
      "source": [
        "model.compile('sgd', 'categorical_crossentropy', metrics = ['accuracy'])"
      ],
      "execution_count": 15,
      "outputs": []
    },
    {
      "cell_type": "markdown",
      "metadata": {
        "id": "Q25mBH-kisKx"
      },
      "source": [
        "### 7. Training"
      ]
    },
    {
      "cell_type": "code",
      "metadata": {
        "id": "4b7N3qcjisOF",
        "colab": {
          "base_uri": "https://localhost:8080/"
        },
        "outputId": "bfa49458-9c0f-48c4-acbb-a02b4e2f0b07"
      },
      "source": [
        "model.fit(X_train, Y_train, epochs=num_epochs, batch_size=batch_size, validation_split=0.2)"
      ],
      "execution_count": 17,
      "outputs": [
        {
          "output_type": "stream",
          "name": "stdout",
          "text": [
            "Epoch 1/10\n",
            "480/480 [==============================] - 5s 4ms/step - loss: 1.2439 - accuracy: 0.6919 - val_loss: 0.6596 - val_accuracy: 0.8531\n",
            "Epoch 2/10\n",
            "480/480 [==============================] - 2s 4ms/step - loss: 0.5669 - accuracy: 0.8616 - val_loss: 0.4535 - val_accuracy: 0.8842\n",
            "Epoch 3/10\n",
            "480/480 [==============================] - 2s 4ms/step - loss: 0.4463 - accuracy: 0.8834 - val_loss: 0.3870 - val_accuracy: 0.8957\n",
            "Epoch 4/10\n",
            "480/480 [==============================] - 2s 4ms/step - loss: 0.3951 - accuracy: 0.8927 - val_loss: 0.3529 - val_accuracy: 0.9021\n",
            "Epoch 5/10\n",
            "480/480 [==============================] - 2s 4ms/step - loss: 0.3647 - accuracy: 0.8983 - val_loss: 0.3309 - val_accuracy: 0.9068\n",
            "Epoch 6/10\n",
            "480/480 [==============================] - 2s 4ms/step - loss: 0.3435 - accuracy: 0.9036 - val_loss: 0.3154 - val_accuracy: 0.9103\n",
            "Epoch 7/10\n",
            "480/480 [==============================] - 2s 4ms/step - loss: 0.3274 - accuracy: 0.9071 - val_loss: 0.3024 - val_accuracy: 0.9147\n",
            "Epoch 8/10\n",
            "480/480 [==============================] - 2s 4ms/step - loss: 0.3142 - accuracy: 0.9111 - val_loss: 0.2924 - val_accuracy: 0.9170\n",
            "Epoch 9/10\n",
            "480/480 [==============================] - 2s 4ms/step - loss: 0.3030 - accuracy: 0.9134 - val_loss: 0.2830 - val_accuracy: 0.9202\n",
            "Epoch 10/10\n",
            "480/480 [==============================] - 2s 4ms/step - loss: 0.2932 - accuracy: 0.9162 - val_loss: 0.2750 - val_accuracy: 0.9218\n"
          ]
        },
        {
          "output_type": "execute_result",
          "data": {
            "text/plain": [
              "<keras.callbacks.History at 0x7fa47b8a1350>"
            ]
          },
          "metadata": {},
          "execution_count": 17
        }
      ]
    },
    {
      "cell_type": "markdown",
      "metadata": {
        "id": "uf44Nl44isSL"
      },
      "source": [
        "### 8. Evaluate"
      ]
    },
    {
      "cell_type": "markdown",
      "source": [
        "\n",
        "*은 check_performance 변수가 가지고 있는 그 안의 모든 정보를 다 꺼내오는 역할을 한다.  \n",
        "check_performance은 모델을 evaluate했을때의 결과로 리턴값이 loss, accuracy값 \n",
        "2개를 반환한다면 너무 고마운데 리턴을 하나로만 해준다.  \n",
        "즉, 객체하나를 리턴하는데 그 안에 변수가 숨겨져있다.  \n",
        "\n",
        "객체 안에있는 멤버를 알 필요없이 사용하는데, 알다시피 format이라는 함수는 앞에 {} 의 갯수만큼 인자값을 넣어줘야 한다.   \n",
        "*model_performance가 가지고 있는 멤버는 2개 이기 때문에 알아서 자동으로 각각 채워지게 된다.\n",
        "\n",
        "일부 내가 만들지 않는파이선 패키지에서 리턴값이 저렇게 넘어오는 경우가 많아서 알아두는 것이 필요하다.  \n",
        "다른 언어에서는 저런 부분이 없다."
      ],
      "metadata": {
        "id": "2lmuZacurjdJ"
      }
    },
    {
      "cell_type": "code",
      "metadata": {
        "id": "woFr4jRBmlmE",
        "colab": {
          "base_uri": "https://localhost:8080/"
        },
        "outputId": "c8243a77-57ab-4d44-8dba-58ccb1096a70"
      },
      "source": [
        "model_performance = model.evaluate(X_test, Y_test, batch_size=batch_size)\n",
        "print('Loss :{}, Accuracy :{}'.format(*model_performance))"
      ],
      "execution_count": 18,
      "outputs": [
        {
          "output_type": "stream",
          "name": "stdout",
          "text": [
            "100/100 [==============================] - 0s 3ms/step - loss: 0.2781 - accuracy: 0.9214\n",
            "Loss :0.2781234085559845, Accuracy :0.9214000105857849\n"
          ]
        }
      ]
    },
    {
      "cell_type": "markdown",
      "metadata": {
        "id": "IVidyl6woPKz"
      },
      "source": [
        "### 9. Loss and Accuracy Visualization"
      ]
    },
    {
      "cell_type": "code",
      "metadata": {
        "id": "eOotwRBHoPQS"
      },
      "source": [
        "import matplotlib.pyplot as plt\n",
        "\n",
        "# loss 관련된 plot 함수\n",
        "def plot_loss(history):\n",
        "    plt.plot(history.history['loss'])\n",
        "    plt.plot(history.history['val_loss'])\n",
        "    plt.title('model Loss')\n",
        "    plt.ylabel('Loss')\n",
        "    plt.xlabel('Epoch')\n",
        "    plt.legend(['Train','Validation'])\n",
        "\n",
        "# acc 관련된 plot 함수    \n",
        "def plot_acc(history):\n",
        "    plt.plot(history.history['accuracy'])\n",
        "    plt.plot(history.history['val_accuracy'])\n",
        "    plt.title('Model Accuracy')\n",
        "    plt.ylabel('Accuracy')\n",
        "    plt.xlabel('Epoch')\n",
        "    plt.legend(['Train','Validation']) "
      ],
      "execution_count": 19,
      "outputs": []
    },
    {
      "cell_type": "markdown",
      "source": [
        "history 변수에 담아둔 정보로 그래프 그리는 것이다."
      ],
      "metadata": {
        "id": "xcJpMrktReWf"
      }
    },
    {
      "cell_type": "code",
      "metadata": {
        "id": "fi8TnmPToybC",
        "colab": {
          "base_uri": "https://localhost:8080/"
        },
        "outputId": "72a24e18-92bc-4ee7-b9c0-deaf44ef781e"
      },
      "source": [
        "# fit()... 트레이닝할떄 나오는 로그메세지들을 다 모아서 리턴해준다..history로 리턴받음\n",
        "history = model.fit(X_train, Y_train, epochs=50, batch_size=batch_size, validation_split=0.2)\n"
      ],
      "execution_count": 20,
      "outputs": [
        {
          "output_type": "stream",
          "name": "stdout",
          "text": [
            "Epoch 1/50\n",
            "480/480 [==============================] - 2s 4ms/step - loss: 0.2844 - accuracy: 0.9187 - val_loss: 0.2679 - val_accuracy: 0.9239\n",
            "Epoch 2/50\n",
            "480/480 [==============================] - 2s 4ms/step - loss: 0.2764 - accuracy: 0.9215 - val_loss: 0.2612 - val_accuracy: 0.9264\n",
            "Epoch 3/50\n",
            "480/480 [==============================] - 3s 7ms/step - loss: 0.2690 - accuracy: 0.9234 - val_loss: 0.2552 - val_accuracy: 0.9279\n",
            "Epoch 4/50\n",
            "480/480 [==============================] - 3s 7ms/step - loss: 0.2622 - accuracy: 0.9254 - val_loss: 0.2499 - val_accuracy: 0.9294\n",
            "Epoch 5/50\n",
            "480/480 [==============================] - 3s 7ms/step - loss: 0.2559 - accuracy: 0.9273 - val_loss: 0.2445 - val_accuracy: 0.9310\n",
            "Epoch 6/50\n",
            "480/480 [==============================] - 2s 4ms/step - loss: 0.2499 - accuracy: 0.9296 - val_loss: 0.2392 - val_accuracy: 0.9328\n",
            "Epoch 7/50\n",
            "480/480 [==============================] - 2s 4ms/step - loss: 0.2444 - accuracy: 0.9311 - val_loss: 0.2348 - val_accuracy: 0.9333\n",
            "Epoch 8/50\n",
            "480/480 [==============================] - 2s 4ms/step - loss: 0.2389 - accuracy: 0.9323 - val_loss: 0.2300 - val_accuracy: 0.9358\n",
            "Epoch 9/50\n",
            "480/480 [==============================] - 2s 4ms/step - loss: 0.2338 - accuracy: 0.9339 - val_loss: 0.2263 - val_accuracy: 0.9373\n",
            "Epoch 10/50\n",
            "480/480 [==============================] - 2s 4ms/step - loss: 0.2290 - accuracy: 0.9359 - val_loss: 0.2224 - val_accuracy: 0.9386\n",
            "Epoch 11/50\n",
            "480/480 [==============================] - 2s 4ms/step - loss: 0.2244 - accuracy: 0.9370 - val_loss: 0.2186 - val_accuracy: 0.9382\n",
            "Epoch 12/50\n",
            "480/480 [==============================] - 2s 4ms/step - loss: 0.2199 - accuracy: 0.9376 - val_loss: 0.2151 - val_accuracy: 0.9416\n",
            "Epoch 13/50\n",
            "480/480 [==============================] - 2s 4ms/step - loss: 0.2157 - accuracy: 0.9390 - val_loss: 0.2124 - val_accuracy: 0.9407\n",
            "Epoch 14/50\n",
            "480/480 [==============================] - 2s 4ms/step - loss: 0.2118 - accuracy: 0.9399 - val_loss: 0.2077 - val_accuracy: 0.9441\n",
            "Epoch 15/50\n",
            "480/480 [==============================] - 2s 4ms/step - loss: 0.2078 - accuracy: 0.9415 - val_loss: 0.2060 - val_accuracy: 0.9430\n",
            "Epoch 16/50\n",
            "480/480 [==============================] - 2s 4ms/step - loss: 0.2042 - accuracy: 0.9423 - val_loss: 0.2019 - val_accuracy: 0.9453\n",
            "Epoch 17/50\n",
            "480/480 [==============================] - 2s 4ms/step - loss: 0.2004 - accuracy: 0.9431 - val_loss: 0.1987 - val_accuracy: 0.9463\n",
            "Epoch 18/50\n",
            "480/480 [==============================] - 2s 4ms/step - loss: 0.1970 - accuracy: 0.9442 - val_loss: 0.1961 - val_accuracy: 0.9468\n",
            "Epoch 19/50\n",
            "480/480 [==============================] - 2s 4ms/step - loss: 0.1937 - accuracy: 0.9456 - val_loss: 0.1937 - val_accuracy: 0.9472\n",
            "Epoch 20/50\n",
            "480/480 [==============================] - 2s 4ms/step - loss: 0.1905 - accuracy: 0.9463 - val_loss: 0.1908 - val_accuracy: 0.9478\n",
            "Epoch 21/50\n",
            "480/480 [==============================] - 2s 4ms/step - loss: 0.1873 - accuracy: 0.9468 - val_loss: 0.1882 - val_accuracy: 0.9483\n",
            "Epoch 22/50\n",
            "480/480 [==============================] - 2s 4ms/step - loss: 0.1844 - accuracy: 0.9477 - val_loss: 0.1859 - val_accuracy: 0.9491\n",
            "Epoch 23/50\n",
            "480/480 [==============================] - 2s 4ms/step - loss: 0.1815 - accuracy: 0.9488 - val_loss: 0.1838 - val_accuracy: 0.9487\n",
            "Epoch 24/50\n",
            "480/480 [==============================] - 2s 4ms/step - loss: 0.1785 - accuracy: 0.9491 - val_loss: 0.1818 - val_accuracy: 0.9502\n",
            "Epoch 25/50\n",
            "480/480 [==============================] - 2s 4ms/step - loss: 0.1758 - accuracy: 0.9501 - val_loss: 0.1792 - val_accuracy: 0.9511\n",
            "Epoch 26/50\n",
            "480/480 [==============================] - 2s 4ms/step - loss: 0.1731 - accuracy: 0.9509 - val_loss: 0.1776 - val_accuracy: 0.9516\n",
            "Epoch 27/50\n",
            "480/480 [==============================] - 2s 4ms/step - loss: 0.1705 - accuracy: 0.9516 - val_loss: 0.1758 - val_accuracy: 0.9519\n",
            "Epoch 28/50\n",
            "480/480 [==============================] - 2s 4ms/step - loss: 0.1680 - accuracy: 0.9524 - val_loss: 0.1733 - val_accuracy: 0.9528\n",
            "Epoch 29/50\n",
            "480/480 [==============================] - 2s 4ms/step - loss: 0.1656 - accuracy: 0.9534 - val_loss: 0.1714 - val_accuracy: 0.9533\n",
            "Epoch 30/50\n",
            "480/480 [==============================] - 2s 4ms/step - loss: 0.1632 - accuracy: 0.9538 - val_loss: 0.1694 - val_accuracy: 0.9541\n",
            "Epoch 31/50\n",
            "480/480 [==============================] - 2s 4ms/step - loss: 0.1609 - accuracy: 0.9541 - val_loss: 0.1683 - val_accuracy: 0.9533\n",
            "Epoch 32/50\n",
            "480/480 [==============================] - 2s 4ms/step - loss: 0.1587 - accuracy: 0.9551 - val_loss: 0.1661 - val_accuracy: 0.9549\n",
            "Epoch 33/50\n",
            "480/480 [==============================] - 2s 4ms/step - loss: 0.1564 - accuracy: 0.9553 - val_loss: 0.1649 - val_accuracy: 0.9545\n",
            "Epoch 34/50\n",
            "480/480 [==============================] - 2s 4ms/step - loss: 0.1544 - accuracy: 0.9564 - val_loss: 0.1637 - val_accuracy: 0.9552\n",
            "Epoch 35/50\n",
            "480/480 [==============================] - 2s 4ms/step - loss: 0.1524 - accuracy: 0.9572 - val_loss: 0.1616 - val_accuracy: 0.9557\n",
            "Epoch 36/50\n",
            "480/480 [==============================] - 2s 4ms/step - loss: 0.1503 - accuracy: 0.9575 - val_loss: 0.1602 - val_accuracy: 0.9562\n",
            "Epoch 37/50\n",
            "480/480 [==============================] - 2s 4ms/step - loss: 0.1484 - accuracy: 0.9582 - val_loss: 0.1588 - val_accuracy: 0.9571\n",
            "Epoch 38/50\n",
            "480/480 [==============================] - 2s 4ms/step - loss: 0.1464 - accuracy: 0.9588 - val_loss: 0.1570 - val_accuracy: 0.9571\n",
            "Epoch 39/50\n",
            "480/480 [==============================] - 2s 4ms/step - loss: 0.1446 - accuracy: 0.9595 - val_loss: 0.1560 - val_accuracy: 0.9580\n",
            "Epoch 40/50\n",
            "480/480 [==============================] - 2s 4ms/step - loss: 0.1427 - accuracy: 0.9599 - val_loss: 0.1546 - val_accuracy: 0.9580\n",
            "Epoch 41/50\n",
            "480/480 [==============================] - 2s 4ms/step - loss: 0.1409 - accuracy: 0.9608 - val_loss: 0.1533 - val_accuracy: 0.9589\n",
            "Epoch 42/50\n",
            "480/480 [==============================] - 2s 4ms/step - loss: 0.1393 - accuracy: 0.9611 - val_loss: 0.1525 - val_accuracy: 0.9584\n",
            "Epoch 43/50\n",
            "480/480 [==============================] - 2s 4ms/step - loss: 0.1376 - accuracy: 0.9614 - val_loss: 0.1508 - val_accuracy: 0.9589\n",
            "Epoch 44/50\n",
            "480/480 [==============================] - 2s 4ms/step - loss: 0.1359 - accuracy: 0.9617 - val_loss: 0.1493 - val_accuracy: 0.9593\n",
            "Epoch 45/50\n",
            "480/480 [==============================] - 2s 4ms/step - loss: 0.1343 - accuracy: 0.9626 - val_loss: 0.1485 - val_accuracy: 0.9596\n",
            "Epoch 46/50\n",
            "480/480 [==============================] - 2s 4ms/step - loss: 0.1327 - accuracy: 0.9630 - val_loss: 0.1472 - val_accuracy: 0.9598\n",
            "Epoch 47/50\n",
            "480/480 [==============================] - 2s 4ms/step - loss: 0.1312 - accuracy: 0.9634 - val_loss: 0.1460 - val_accuracy: 0.9603\n",
            "Epoch 48/50\n",
            "480/480 [==============================] - 2s 4ms/step - loss: 0.1296 - accuracy: 0.9640 - val_loss: 0.1457 - val_accuracy: 0.9607\n",
            "Epoch 49/50\n",
            "480/480 [==============================] - 3s 6ms/step - loss: 0.1282 - accuracy: 0.9644 - val_loss: 0.1439 - val_accuracy: 0.9609\n",
            "Epoch 50/50\n",
            "480/480 [==============================] - 2s 4ms/step - loss: 0.1267 - accuracy: 0.9650 - val_loss: 0.1434 - val_accuracy: 0.9607\n"
          ]
        }
      ]
    },
    {
      "cell_type": "code",
      "metadata": {
        "id": "k7mYovmAqbQ0",
        "colab": {
          "base_uri": "https://localhost:8080/",
          "height": 295
        },
        "outputId": "4e77ed23-c59f-486c-d7a0-d930a32b362d"
      },
      "source": [
        "plot_loss(history)"
      ],
      "execution_count": 21,
      "outputs": [
        {
          "output_type": "display_data",
          "data": {
            "text/plain": [
              "<Figure size 432x288 with 1 Axes>"
            ],
            "image/png": "[encoded data removed]"
          },
          "metadata": {
            "needs_background": "light"
          }
        }
      ]
    },
    {
      "cell_type": "code",
      "metadata": {
        "id": "vR4PcjF9pt9F",
        "colab": {
          "base_uri": "https://localhost:8080/",
          "height": 295
        },
        "outputId": "1eed4f7d-ec18-4ff8-9551-a43eeabe10c3"
      },
      "source": [
        "plot_acc(history)"
      ],
      "execution_count": 22,
      "outputs": [
        {
          "output_type": "display_data",
          "data": {
            "text/plain": [
              "<Figure size 432x288 with 1 Axes>"
            ],
            "image/png": "[encoded data removed]"
          },
          "metadata": {
            "needs_background": "light"
          }
        }
      ]
    }
  ]
}