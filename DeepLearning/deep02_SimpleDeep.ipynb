{
  "nbformat": 4,
  "nbformat_minor": 0,
  "metadata": {
    "colab": {
      "name": "deep02_SimpleDeep.ipynb",
      "provenance": [],
      "collapsed_sections": [],
      "include_colab_link": true
    },
    "kernelspec": {
      "name": "python3",
      "display_name": "Python 3"
    },
    "language_info": {
      "name": "python"
    },
    "accelerator": "GPU"
  },
  "cells": [
    {
      "cell_type": "markdown",
      "metadata": {
        "id": "view-in-github",
        "colab_type": "text"
      },
      "source": [
        "<a href=\"https://colab.research.google.com/github/sshee0123/Airpotal_crawling/blob/main/DeepLearning/deep02_SimpleDeep.ipynb\" target=\"_parent\"><img src=\"https://colab.research.google.com/assets/colab-badge.svg\" alt=\"Open In Colab\"/></a>"
      ]
    },
    {
      "cell_type": "markdown",
      "source": [
        "### Torch Configuration"
      ],
      "metadata": {
        "id": "qJBIkQUok-jh"
      }
    },
    {
      "cell_type": "code",
      "execution_count": 3,
      "metadata": {
        "id": "jFiL_eEckYLe"
      },
      "outputs": [],
      "source": [
        "import torch\n",
        "import torch.nn as nn\n",
        "import numpy as np\n",
        "import matplotlib.pyplot as plt"
      ]
    },
    {
      "cell_type": "markdown",
      "source": [
        "### Hyper-parameters"
      ],
      "metadata": {
        "id": "-cAhFrnrlHqu"
      }
    },
    {
      "cell_type": "code",
      "source": [
        "input_size = 1 # 1차원\n",
        "output_size = 1 # 1차원\n",
        "num_epochs = 100\n",
        "learning_rate = 0.001"
      ],
      "metadata": {
        "id": "nOvj3YVflJdy"
      },
      "execution_count": 1,
      "outputs": []
    },
    {
      "cell_type": "markdown",
      "source": [
        "### Toy Dataset"
      ],
      "metadata": {
        "id": "NL1Yd3bFlSRQ"
      }
    },
    {
      "cell_type": "code",
      "source": [
        "x_train = np.array([[3.3], [4.4], [5.5], [6.71], [6.93], [4.168], \n",
        "                    [9.779], [6.182], [7.59], [2.167], [7.042], \n",
        "                    [10.791], [5.313], [7.997], [3.1]], dtype=np.float32)\n",
        "\n",
        "y_train = np.array([[1.7], [2.76], [2.09], [3.19], [1.694], [1.573], \n",
        "                    [3.366], [2.596], [2.53], [1.221], [2.827], \n",
        "                    [3.465], [1.65], [2.904], [1.3]], dtype=np.float32)\n",
        "\n",
        "x_train\n",
        "y_train"
      ],
      "metadata": {
        "id": "KXA8He6xlQPm",
        "colab": {
          "base_uri": "https://localhost:8080/"
        },
        "outputId": "b0771b7b-b5da-4232-a0c7-5c1829599009"
      },
      "execution_count": 4,
      "outputs": [
        {
          "output_type": "execute_result",
          "data": {
            "text/plain": [
              "array([[1.7  ],\n",
              "       [2.76 ],\n",
              "       [2.09 ],\n",
              "       [3.19 ],\n",
              "       [1.694],\n",
              "       [1.573],\n",
              "       [3.366],\n",
              "       [2.596],\n",
              "       [2.53 ],\n",
              "       [1.221],\n",
              "       [2.827],\n",
              "       [3.465],\n",
              "       [1.65 ],\n",
              "       [2.904],\n",
              "       [1.3  ]], dtype=float32)"
            ]
          },
          "metadata": {},
          "execution_count": 4
        }
      ]
    },
    {
      "cell_type": "markdown",
      "source": [
        "### Linear regression model"
      ],
      "metadata": {
        "id": "A_AIYUE9le0d"
      }
    },
    {
      "cell_type": "code",
      "source": [
        "model = nn.Linear(input_size, output_size)"
      ],
      "metadata": {
        "id": "gmvvHt9ilgig"
      },
      "execution_count": 5,
      "outputs": []
    },
    {
      "cell_type": "markdown",
      "source": [
        "### Loss and Optimizer"
      ],
      "metadata": {
        "id": "zdDBsAXAllKl"
      }
    },
    {
      "cell_type": "code",
      "source": [
        "loss_func = nn.MSELoss()\n",
        "optimizer = torch.optim.SGD(model.parameters(), lr = learning_rate)"
      ],
      "metadata": {
        "id": "w--XleYilqHo"
      },
      "execution_count": 6,
      "outputs": []
    },
    {
      "cell_type": "markdown",
      "source": [
        "### Train the model"
      ],
      "metadata": {
        "id": "iyJwk7RjlvY5"
      }
    },
    {
      "cell_type": "code",
      "source": [
        "for epoch in range(num_epochs):\n",
        "  inputs = torch.from_numpy(x_train) # from_numpy() : numpy 를 tensor로\n",
        "  targets = torch.from_numpy(y_train)\n",
        "\n",
        "  # Forward 진행 방향, 입력값 -> 예측값 출력 -> loss\n",
        "  preds = model(inputs)\n",
        "  loss = loss_func(preds, targets) # loss : model의 loss\n",
        "\n",
        "  # Backward 진행 방향\n",
        "  optimizer.zero_grad() # optimizer 초기화 (해야함)\n",
        "  loss.backward()\n",
        "  optimizer.step() # 이때 비로소 학습이 진행된다..\n",
        "\n",
        "  if(epoch+1) % 5 == 0:\n",
        "    print(\"Epoch[{}/{}], Loss:{:.4f}\".format(epoch+1, num_epochs, loss.item()))\n"
      ],
      "metadata": {
        "id": "jEfTyzlFl2w0",
        "colab": {
          "base_uri": "https://localhost:8080/"
        },
        "outputId": "bfa21cda-234c-4620-afd9-94d6e8aaec0d"
      },
      "execution_count": 8,
      "outputs": [
        {
          "output_type": "stream",
          "name": "stdout",
          "text": [
            "Epoch[5/100], Loss:0.4568\n",
            "Epoch[10/100], Loss:0.3303\n",
            "Epoch[15/100], Loss:0.2789\n",
            "Epoch[20/100], Loss:0.2580\n",
            "Epoch[25/100], Loss:0.2494\n",
            "Epoch[30/100], Loss:0.2458\n",
            "Epoch[35/100], Loss:0.2442\n",
            "Epoch[40/100], Loss:0.2435\n",
            "Epoch[45/100], Loss:0.2431\n",
            "Epoch[50/100], Loss:0.2428\n",
            "Epoch[55/100], Loss:0.2425\n",
            "Epoch[60/100], Loss:0.2423\n",
            "Epoch[65/100], Loss:0.2422\n",
            "Epoch[70/100], Loss:0.2420\n",
            "Epoch[75/100], Loss:0.2418\n",
            "Epoch[80/100], Loss:0.2416\n",
            "Epoch[85/100], Loss:0.2414\n",
            "Epoch[90/100], Loss:0.2412\n",
            "Epoch[95/100], Loss:0.2410\n",
            "Epoch[100/100], Loss:0.2408\n"
          ]
        }
      ]
    },
    {
      "cell_type": "markdown",
      "source": [
        "### Plot the graph"
      ],
      "metadata": {
        "id": "VPhMywmBl758"
      }
    },
    {
      "cell_type": "code",
      "source": [
        "#detach 연산기록으로부터 분리시켜야 한다.\n",
        "predicted = model(torch.from_numpy(x_train)).detach().numpy()\n",
        "\n",
        "plt.plot(x_train, y_train, \"ro\", label = \"Original Data\")\n",
        "plt.plot(x_train, predicted, label = \"Fitted Line\")\n",
        "plt.legend()\n",
        "plt.show()"
      ],
      "metadata": {
        "id": "G_TzNvPpmA6a",
        "colab": {
          "base_uri": "https://localhost:8080/",
          "height": 265
        },
        "outputId": "4a855e43-9ab3-428c-a3f9-7d3a01d3b814"
      },
      "execution_count": 11,
      "outputs": [
        {
          "output_type": "display_data",
          "data": {
            "text/plain": [
              "<Figure size 432x288 with 1 Axes>"
            ],
            "image/png": "[encoded data removed]"
          },
          "metadata": {
            "needs_background": "light"
          }
        }
      ]
    },
    {
      "cell_type": "code",
      "source": [
        "torch.save(model.state_dict(), 'model.ckpt')"
      ],
      "metadata": {
        "id": "nsa0iHz-lu8r"
      },
      "execution_count": 12,
      "outputs": []
    }
  ]
}